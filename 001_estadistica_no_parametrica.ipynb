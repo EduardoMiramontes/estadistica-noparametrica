{
 "cells": [
  {
   "cell_type": "markdown",
   "id": "58696bf6",
   "metadata": {},
   "source": [
    "# Estadística No Paramétrica\n",
    "\n",
    "## **Esquema Jerárquico de Pruebas Estadísticas**\n",
    "\n",
    "### **2 Muestras**\n",
    "- **Relacionadas**\n",
    "  - McNemar\n",
    "  - Signos\n",
    "  - Wilcoxon\n",
    "- **Independientes**\n",
    "  - Fisher\n",
    "  - Ji-Cuadrada\n",
    "  - Median\n",
    "  - Mann-Whitney\n",
    "\n",
    "### **K Muestras**\n",
    "- **Relacionadas**\n",
    "  - Friedman\n",
    "  - Cochran\n",
    "- **Independientes**\n",
    "  - Kruskal-Wallis\n",
    "  - L. Medianas\n",
    "  - Ji-Cuadrada\n",
    "\n",
    "### **1 Muestra**\n",
    "- **Bondad de Ajuste**\n",
    "  - Binomial\n",
    "  - Ji-Cuadrada\n",
    "  - Kolmogorov-Smirnov\n",
    "  - Anderson-Darling\n",
    "- **Aleatoriedad**\n",
    "  - Rachas o Corridas\n",
    "  \n",
    "--- \n",
    "  \n",
    "## **¿Qué es la Estadística No Paramétrica?**\n",
    "La **Estadística No Paramétrica** es una rama de la estadística que se utiliza cuando los datos no cumplen con los supuestos de las pruebas paramétricas tradicionales, como la normalidad en la distribución de los datos o la homogeneidad de varianzas. \n",
    "\n",
    "A diferencia de la estadística paramétrica, que depende de parámetros específicos de una distribución (como la media y la varianza en la distribución normal), las pruebas no paramétricas se basan en **rangos, medianas y distribuciones generales** sin asumir un modelo específico de probabilidad.  \n",
    "\n",
    "---\n",
    "\n",
    "## **¿Cuándo se usa la Estadística No Paramétrica?**\n",
    "1. **Distribuciones desconocidas o no normales**: Cuando no se puede asumir que los datos siguen una distribución normal.  \n",
    "2. **Datos ordinales o categóricos**: Cuando los datos no son numéricos continuos sino rangos o clasificaciones.  \n",
    "3. **Muestras pequeñas**: En situaciones donde los datos son limitados y los métodos paramétricos no son confiables.  \n",
    "4. **Presencia de valores atípicos**: Los métodos no paramétricos son más robustos ante datos extremos.   "
   ]
  }
 ],
 "metadata": {
  "kernelspec": {
   "display_name": "Python 3 (ipykernel)",
   "language": "python",
   "name": "python3"
  },
  "language_info": {
   "codemirror_mode": {
    "name": "ipython",
    "version": 3
   },
   "file_extension": ".py",
   "mimetype": "text/x-python",
   "name": "python",
   "nbconvert_exporter": "python",
   "pygments_lexer": "ipython3",
   "version": "3.9.13"
  }
 },
 "nbformat": 4,
 "nbformat_minor": 5
}
